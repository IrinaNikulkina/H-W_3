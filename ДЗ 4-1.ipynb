{
 "cells": [
  {
   "cell_type": "markdown",
   "metadata": {},
   "source": [
    "Данное домашнее задание посвящено схеме базе данных, связанной с футбольным командами. Схема расположена в hw_diagram.jpg\n",
    "## Описание таблиц \n",
    "\n",
    "### Positions \n",
    "Позиции игроков\n",
    "id - уникальный идентификатор позиции \n",
    "Name - Название таблицы \n",
    "\n",
    "### Coaches \n",
    "Таблица тренеров \n",
    "id - уникальный идентификатор тренера\n",
    "Name - имя тренера \n",
    "\n",
    "## Teams \n",
    "Таблица команд \n",
    "id - уникальный идентификатор  команды \n",
    "Name - имя команды \n",
    "Location - расположение команды \n",
    "Coach_id - идентификатор тренера \n",
    "\n",
    "### Players \n",
    "Таблица игроков \n",
    "Id - уникальный идентификатор игрока \n",
    "Name - имя игрока \n",
    "Age - возраст игрока \n",
    "Position_id - идентификатор позиции \n",
    "Team_id - идентификатор команды \n",
    "Start_date - дата начала игры в команде \n",
    "\n",
    "### PlayersArchive \n",
    "Архив по игрокам (информация о том, в какой команде игрок играл ранее) \n",
    "player_id - идентификатор игрока \n",
    "team_id - идентификатор команды \n",
    "start_date - дата начала игры \n",
    "end_date - дата окончания игры"
   ]
  },
  {
   "cell_type": "code",
   "execution_count": 2,
   "metadata": {
    "collapsed": false
   },
   "outputs": [
    {
     "data": {
      "text/plain": [
       "'Connected: None@chinook.db'"
      ]
     },
     "execution_count": 2,
     "metadata": {},
     "output_type": "execute_result"
    }
   ],
   "source": [
    "%load_ext sql\n",
    "%sql sqlite:///chinook.db"
   ]
  },
  {
   "cell_type": "markdown",
   "metadata": {},
   "source": [
    "# Задание 1\n",
    "Реализовать перенакатываемые sql-скрипты по схеме hw_diagram, приложенного ниже."
   ]
  },
  {
   "cell_type": "code",
   "execution_count": 18,
   "metadata": {
    "collapsed": false
   },
   "outputs": [
    {
     "name": "stdout",
     "output_type": "stream",
     "text": [
      "Done.\n",
      "(sqlite3.OperationalError) database is locked [SQL: 'DROP TABLE if exists coaches;']\n"
     ]
    }
   ],
   "source": [
    "%%sql\n",
    "Pragma foreign_key=on;\n",
    "DROP TABLE if exists coaches;\n",
    "CREATE TABLE coaches (ID integer(0,0) NOT NULL Primary key, \n",
    "                        name varchar(0,0)); \n",
    "\n",
    "DROP TABLE if exists position;\n",
    "CREATE TABLE position (ID integer(0,0) NOT NULL Primary key,\n",
    "                    name varchar(0,0));\n",
    "                    \n",
    "                   \n",
    "DROP TABLE if exists teams;\n",
    "CREATE TABLE teams ( ID integer(0,0) NOT NULL Primary key,\n",
    "                       name varchar(0,0), \n",
    "                       location inteder(0,0),\n",
    "                   coach_id integer(0,0),\n",
    "                   FOREIGN KEY (coach_id) REFERENCES coaches(ID));\n",
    "\n",
    "DROP TABLE if exists  players;\n",
    "CREATE TABLE players ( ID integer(0,0) NOT NULL Primary key,\n",
    "                       name varchar(0,0), \n",
    "                       age inteder(0,0),\n",
    "                   position_id integer(0,0),\n",
    "                   team_id integer(0,0),\n",
    "                   start_date date,\n",
    "                   FOREIGN KEY (position_id) REFERENCES position(ID),\n",
    "                   FOREIGN KEY ( team_id) REFERENCES teams(ID));\n",
    "\n",
    "DROP TABLE if exists PlayersArchive;\n",
    "CREATE TABLE PlayersArchive (player_id integer(0,0) NOT NULL, \n",
    "                            team_id integer(0,0) NOT NULL,\n",
    "                            start_date date,\n",
    "                             end_date date,\n",
    "                            primary key (player_id,team_id)\n",
    "                            FOREIGN KEY (player_id) REFERENCES players(ID)\n",
    "                            FOREIGN KEY (team_id) REFERENCES teams(ID));\n"
   ]
  },
  {
   "cell_type": "code",
   "execution_count": null,
   "metadata": {
    "collapsed": true
   },
   "outputs": [],
   "source": []
  },
  {
   "cell_type": "markdown",
   "metadata": {},
   "source": [
    "# Задание 2\n",
    "Написать sql-скрипт, осуществляюший добавление всех возможных позиций игроков. (В данной задаче можно ограничится четырьмя - вратарь, защитник, полузащитник, нападающий)"
   ]
  },
  {
   "cell_type": "code",
   "execution_count": 4,
   "metadata": {
    "collapsed": false
   },
   "outputs": [
    {
     "name": "stdout",
     "output_type": "stream",
     "text": [
      "1 rows affected.\n",
      "1 rows affected.\n",
      "1 rows affected.\n",
      "1 rows affected.\n",
      "1 rows affected.\n",
      "1 rows affected.\n",
      "1 rows affected.\n",
      "1 rows affected.\n",
      "1 rows affected.\n",
      "1 rows affected.\n",
      "1 rows affected.\n",
      "1 rows affected.\n"
     ]
    },
    {
     "data": {
      "text/plain": [
       "[]"
      ]
     },
     "execution_count": 4,
     "metadata": {},
     "output_type": "execute_result"
    }
   ],
   "source": [
    "%%sql\n",
    "insert into coaches (ID, name) values(1, 'Петров');\n",
    "insert into coaches (ID, name) values(2, 'Иванов');\n",
    "insert into position(ID, name) values(1, 'Вратарь');\n",
    "insert into position(ID, name) values(2, 'Защитник');\n",
    "insert into position(ID, name) values(3, 'Полузащитник');\n",
    "insert into position(ID, name) values(4, 'Нападающий');\n",
    "insert into teams(ID, name, location, coach_id) values(1, 'Спартак', 'A', 1);\n",
    "insert into teams(ID, name, location, coach_id) values(2, 'Зенит', 'B', 2);\n",
    "insert into players (ID, name, age, position_id, team_id,  start_date)  values(1, 'Иван', 26, 1, 1, \"2001-01-01\");\n",
    "insert into players (ID, name, age, position_id, team_id,  start_date)  values(2, 'Семен', 26, 3, 2, \"2002-02-02\");\n",
    "insert into PlayersArchive (player_id, team_id, start_date, end_date ) values(1, 1, '2002-12-31', '2003-01-01');\n",
    "insert into PlayersArchive (player_id, team_id, start_date, end_date ) values(2, 2, '2002-11-31', '2003-01-10');\n"
   ]
  },
  {
   "cell_type": "markdown",
   "metadata": {},
   "source": [
    "# Задание 3\n",
    "Написать функцию, осуществляющую добавление тренера. На вход функции подается имя тренера. При невозможности вставки функция должна обработать данное исключение и вывести пользователю информацию о проблеме\n",
    "\n",
    "После написания функции необходимо добавить несколько тренеров для таблицы."
   ]
  },
  {
   "cell_type": "code",
   "execution_count": 5,
   "metadata": {
    "collapsed": true
   },
   "outputs": [],
   "source": [
    "import sqlite3\n",
    "db=sqlite3.connect('chinook.db')\n",
    "def insert_coaches(name):\n",
    "    cur = db.cursor()\n",
    "    cur.execute( '''\n",
    "    SELECT COALESCE(MAX(ID)+1, 1) FROM coaches''')\n",
    "    ID = cur.fetchone()[0]\n",
    "    cur.execute('''\n",
    "        INSERT INTO coaches(ID, name) VALUES(?,?)''', (ID,name))\n",
    "    db.commit()"
   ]
  },
  {
   "cell_type": "code",
   "execution_count": 6,
   "metadata": {
    "collapsed": true
   },
   "outputs": [],
   "source": [
    "insert_coaches('Романов')"
   ]
  },
  {
   "cell_type": "code",
   "execution_count": 7,
   "metadata": {
    "collapsed": true
   },
   "outputs": [],
   "source": [
    "insert_coaches('Лошкин')"
   ]
  },
  {
   "cell_type": "markdown",
   "metadata": {},
   "source": [
    "# Задание 4\n",
    "\n",
    "Написать функцию, осуществляющую добавление команды. На вход функция принимает (имя команды, местоположение, имя тренера).\n",
    "На выходе должна быть добавлена команда.\n",
    "\n",
    "После написания функции необходимо добавить несколько команд"
   ]
  },
  {
   "cell_type": "code",
   "execution_count": 8,
   "metadata": {
    "collapsed": true
   },
   "outputs": [],
   "source": [
    "import sqlite3\n",
    "db=sqlite3.connect('chinook.db')\n",
    "def insert_teams(name, loc, name_t):\n",
    "    cur = db.cursor()\n",
    "    cur.execute( '''\n",
    "    SELECT COALESCE(MAX(ID)+1, 1) FROM coaches''')\n",
    "    ID_1 = cur.fetchone()[0]\n",
    "    cur.execute('''\n",
    "        INSERT INTO coaches(ID, name) VALUES(?,?)''', (ID_1,name_t))\n",
    "    cur.execute( '''\n",
    "    SELECT COALESCE(MAX(ID)+1, 1) FROM teams''')\n",
    "    ID = cur.fetchone()[0]\n",
    "    cur.execute(''' \n",
    "        INSERT INTO teams(ID, name, location, coach_id) VALUES(?,?,?,?)''', (ID, name, loc, ID_1))\n",
    "       \n",
    "    db.commit()"
   ]
  },
  {
   "cell_type": "code",
   "execution_count": 9,
   "metadata": {
    "collapsed": true
   },
   "outputs": [],
   "source": [
    "insert_teams('ЦСК', 'Г', 'Калинин')"
   ]
  },
  {
   "cell_type": "code",
   "execution_count": 10,
   "metadata": {
    "collapsed": true
   },
   "outputs": [],
   "source": [
    "insert_teams('ЦСК', 'Г', 'Зубов')"
   ]
  },
  {
   "cell_type": "markdown",
   "metadata": {},
   "source": [
    "# Задание 5\n",
    "\n",
    "Написать функцию, осуществляющую обновление информации о команде. У функции на входе должен быть один обязательный параметр - название команды и два необязательных параметра - имя тренера и местоположение. При этом хотя бы один из необязательных параметров должен быть заполнен. Функция должна обновлять значение переданных необязательных параметров.\n",
    "\n",
    "После написания функции вызовите данную функцию несколько раз"
   ]
  },
  {
   "cell_type": "code",
   "execution_count": 11,
   "metadata": {
    "collapsed": false
   },
   "outputs": [],
   "source": [
    "import sqlite3\n",
    "db=sqlite3.connect('chinook.db')\n",
    "def update_teams(name, name_t, loc):\n",
    "    cur = db.cursor()\n",
    "    cur.execute( '''\n",
    "    SELECT COALESCE(MAX(ID)+1, 1) FROM coaches''')\n",
    "    ID_1 = cur.fetchone()[0]\n",
    "    cur.execute('''\n",
    "        INSERT INTO coaches(ID, name) VALUES(?,?)''', (ID_1,name_t))\n",
    "    cur.execute( '''\n",
    "    SELECT ID  FROM teams where name=?'''), (name,)\n",
    "    ID = cur.fetchone()[0]\n",
    "    cur.execute(''' \n",
    "        Update from teams set coach_id=?, location = ? where Id=?  ''', (ID_1, loc, ID))\n",
    "       \n",
    "    db.commit()"
   ]
  },
  {
   "cell_type": "code",
   "execution_count": null,
   "metadata": {
    "collapsed": true
   },
   "outputs": [],
   "source": [
    "update_teams('Спартак', 'Зубов', 'Л')"
   ]
  },
  {
   "cell_type": "code",
   "execution_count": null,
   "metadata": {
    "collapsed": true
   },
   "outputs": [],
   "source": [
    "update_teams('ЦСК', 'Резцов', 'L')"
   ]
  },
  {
   "cell_type": "markdown",
   "metadata": {},
   "source": [
    "# Задание 6\n",
    "\n",
    "Написать функцию, осуществляющую добавление нового футболиста в таблицу игроков. На входе (имя, возраст, название позиции, название команды, дата перехода в команду(необязательный параметр)). Если дата перехода не указана, то нужно использовать текущую дату. Предусмотреть различные ошибки (такие как неверное имя позиции, неверное название команды, возраст < 10 и > 50 и т.п.)\n",
    "\n",
    "После написания функции необходимо добавить несколько игроков."
   ]
  },
  {
   "cell_type": "code",
   "execution_count": null,
   "metadata": {
    "collapsed": true
   },
   "outputs": [],
   "source": []
  },
  {
   "cell_type": "markdown",
   "metadata": {},
   "source": [
    "# Задание 7\n",
    "Написать функцию для перевода игрока в другую команду. Данная функция должна осуществить архивирование текущей записи в таблице игроков в таблицу players_archive с заполнение end_date - датой начала игры за новую команду - 1 день. А также осуществлять изменение поля в таблице Players. При возникновении ошибки должен осуществляться полный откат транзакции."
   ]
  },
  {
   "cell_type": "code",
   "execution_count": null,
   "metadata": {
    "collapsed": true
   },
   "outputs": [],
   "source": []
  }
 ],
 "metadata": {
  "kernelspec": {
   "display_name": "Python 3",
   "language": "python",
   "name": "python3"
  },
  "language_info": {
   "codemirror_mode": {
    "name": "ipython",
    "version": 3
   },
   "file_extension": ".py",
   "mimetype": "text/x-python",
   "name": "python",
   "nbconvert_exporter": "python",
   "pygments_lexer": "ipython3",
   "version": "3.6.0"
  }
 },
 "nbformat": 4,
 "nbformat_minor": 2
}
